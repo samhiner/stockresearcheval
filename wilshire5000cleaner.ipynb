{
 "cells": [
  {
   "cell_type": "markdown",
   "metadata": {},
   "source": [
    "# Clean an HTML page with the Wilshire 5000 into a usable python list of ticker symbols.\n",
    "This HTML came from http://financemainpage.com/Listing_of_All_Wilshire_5000_Stocks.html. I copied the list into a file because python took to long to load the page on its own."
   ]
  },
  {
   "cell_type": "markdown",
   "metadata": {},
   "source": [
    "## This is the raw file"
   ]
  },
  {
   "cell_type": "code",
   "execution_count": 1,
   "metadata": {},
   "outputs": [
    {
     "name": "stdout",
     "output_type": "stream",
     "text": [
      "<table style=\"width: 70%\">\n",
      "<tbody><tr><td style=\"width: 180px\">Agilent Technologies</td><td style=\"width: 30px\">A</td><td style=\"width: 180px\">Alcoa Inc</td><td style=\"width: 30px\">AA</td></tr>\n",
      "<tr><td style=\"width: 180px\">Asset Accep Cap Corp</td><td style=\"width: 30px\">AACC</td><td style=\"width: 180px\">Airtran Hldgs Inc</td><td style=\"width: 30px\">AAI</td></tr>\n",
      "<tr><td style=\"width: 180px\">Alabama Aircraft Ind In</td><td style=\"width: 30px\">AAII</td><td style=\"width: 180px\">Atlantic Amern Corp</td><td style=\"width: 30px\">AAME</td></tr>\n",
      "<tr><td style=\"width: 180px\">Aaron Rents Inc</td><td style=\"width: 30px\">AAN</td><td style=\"width: 180px\">Aaon Inc</td><td style=\"width: 30px\">AAON</td></tr><tr><td style=\"width: 180px\">Advanced Auto Parts</td><td style=\"width: 30px\">AAP</td><td style=\"width: 180px\">Apple Computer Inc</td><td style=\"width: 30px\">AAPL</td></tr>\n",
      "<tr><td style=\"width: 180px\">Advanced Analogic Te</td><td style=\"width: 30px\">AATI</td><td style=\"width: 180px\">Atlas Air Worldwide</td><td style=\"width: 30px\">AAWW</td></tr>\n",
      "<tr><td style=\"width: 180px\">Alliancebernstein Ho</td><td style=\"width: 30px\">AB</td><td style=\"width: 180px\">Advanced Battery Tec</td><td style=\"width: 30px\">ABAT</td></tr>\n",
      "<tr><td style=\"width: 180px\">Abaxis Inc</td><td style=\"width: 30px\">ABAX</td><td style=\"width: 180px\">Abington Bancorp Inc</td><td style=\"width: 30px\">ABBC</td></tr>\n",
      "<tr><td style=\"width: 180px\">Amerisourcebergen Co</td><td style=\"width: 30px\">ABC</td><td style=\"width: 180px\">Ameris Bancorp</td><td style=\"width: 30px\">ABCB</td></tr>\n",
      "<tr><td style=\"width: 180px\">Advisory Brd Co</td><td style=\"width: 30px\">ABCO</td><td style=\"width: 180px\">Anchor Bancorp Wis I</td><td style=\"width: 30px\">ABCW</td></tr>\n",
      "<tr><td style=\"width: 180px\">Acco Brands Corp</td><td style=\"width: 30px\">ABD</td><td style=\"width: 180px\">Allegro Biodiesel Co</td><td style=\"width: 30px\">ABDS</td></tr>\n",
      "</table>\n"
     ]
    }
   ],
   "source": [
    "page = open('data/wilshirehtml.txt')\n",
    "print(page.read())\n",
    "page.close()"
   ]
  },
  {
   "cell_type": "markdown",
   "metadata": {},
   "source": [
    "## Find all instances of ticker in list and append them to a list"
   ]
  },
  {
   "cell_type": "code",
   "execution_count": 2,
   "metadata": {},
   "outputs": [
    {
     "name": "stdout",
     "output_type": "stream",
     "text": [
      "A</t\n",
      "AA</\n",
      "AACC\n",
      "AAI<\n",
      "AAII\n",
      "AAME\n",
      "AAN<\n",
      "AAON\n",
      "AAP<\n",
      "AAPL\n",
      "AATI\n",
      "AAWW\n",
      "AB</\n",
      "ABAT\n",
      "ABAX\n",
      "ABBC\n",
      "ABC<\n",
      "ABCB\n",
      "ABCO\n",
      "ABCW\n",
      "ABD<\n",
      "ABDS\n"
     ]
    }
   ],
   "source": [
    "symbols = []\n",
    "\n",
    "#automatically closes file when done\n",
    "with open('data/wilshirehtml.txt') as page:\n",
    "    line = page.readline()\n",
    "    while line:\n",
    "        for x in range(0,len(line)):\n",
    "            if line[x:x+6] == '30px\">':\n",
    "                ticker = line[x+6:x+10]\n",
    "                print(ticker)\n",
    "                symbols.append(ticker)\n",
    "        \n",
    "        #next line\n",
    "        line = page.readline()"
   ]
  },
  {
   "cell_type": "markdown",
   "metadata": {},
   "source": [
    "## Clean up the characters so remnants of nearby HTML tags are deleted"
   ]
  },
  {
   "cell_type": "code",
   "execution_count": 3,
   "metadata": {},
   "outputs": [
    {
     "name": "stdout",
     "output_type": "stream",
     "text": [
      "A</t\n",
      "A\n",
      "<\n",
      "AA</\n",
      "A\n",
      "A\n",
      "<\n",
      "AACC\n",
      "A\n",
      "A\n",
      "C\n",
      "C\n",
      "AAI<\n",
      "A\n",
      "A\n",
      "I\n",
      "<\n",
      "AAII\n",
      "A\n",
      "A\n",
      "I\n",
      "I\n",
      "AAME\n",
      "A\n",
      "A\n",
      "M\n",
      "E\n",
      "AAN<\n",
      "A\n",
      "A\n",
      "N\n",
      "<\n",
      "AAON\n",
      "A\n",
      "A\n",
      "O\n",
      "N\n",
      "AAP<\n",
      "A\n",
      "A\n",
      "P\n",
      "<\n",
      "AAPL\n",
      "A\n",
      "A\n",
      "P\n",
      "L\n",
      "AATI\n",
      "A\n",
      "A\n",
      "T\n",
      "I\n",
      "AAWW\n",
      "A\n",
      "A\n",
      "W\n",
      "W\n",
      "AB</\n",
      "A\n",
      "B\n",
      "<\n",
      "ABAT\n",
      "A\n",
      "B\n",
      "A\n",
      "T\n",
      "ABAX\n",
      "A\n",
      "B\n",
      "A\n",
      "X\n",
      "ABBC\n",
      "A\n",
      "B\n",
      "B\n",
      "C\n",
      "ABC<\n",
      "A\n",
      "B\n",
      "C\n",
      "<\n",
      "ABCB\n",
      "A\n",
      "B\n",
      "C\n",
      "B\n",
      "ABCO\n",
      "A\n",
      "B\n",
      "C\n",
      "O\n",
      "ABCW\n",
      "A\n",
      "B\n",
      "C\n",
      "W\n",
      "ABD<\n",
      "A\n",
      "B\n",
      "D\n",
      "<\n",
      "ABDS\n",
      "A\n",
      "B\n",
      "D\n",
      "S\n",
      "['A', 'AA', 'AACC', 'AAI', 'AAII', 'AAME', 'AAN', 'AAON', 'AAP', 'AAPL', 'AATI', 'AAWW', 'AB', 'ABAT', 'ABAX', 'ABBC', 'ABC', 'ABCB', 'ABCO', 'ABCW', 'ABD', 'ABDS']\n"
     ]
    }
   ],
   "source": [
    "#delete leftover html tags on symbols that are not four letters\n",
    "for x in range(0,len(symbols)):\n",
    "    print(symbols[x])\n",
    "    for y in range(0,len(symbols[x])):\n",
    "        print(symbols[x][y])\n",
    "        if symbols[x][y] == '<':\n",
    "            symbols[x] = symbols[x][:y]\n",
    "            break\n",
    "\n",
    "print(symbols)"
   ]
  },
  {
   "cell_type": "markdown",
   "metadata": {},
   "source": [
    "## Put the list into a string with each symbol on its own line and write that string to a file"
   ]
  },
  {
   "cell_type": "code",
   "execution_count": 4,
   "metadata": {},
   "outputs": [
    {
     "name": "stdout",
     "output_type": "stream",
     "text": [
      "A\n",
      "AA\n",
      "AACC\n",
      "AAI\n",
      "AAII\n",
      "AAME\n",
      "AAN\n",
      "AAON\n",
      "AAP\n",
      "AAPL\n",
      "AATI\n",
      "AAWW\n",
      "AB\n",
      "ABAT\n",
      "ABAX\n",
      "ABBC\n",
      "ABC\n",
      "ABCB\n",
      "ABCO\n",
      "ABCW\n",
      "ABD\n",
      "ABDS\n",
      "\n"
     ]
    }
   ],
   "source": [
    "list = ''\n",
    "\n",
    "for x in range(0,len(symbols)):\n",
    "    list += symbols[x] + '\\n'\n",
    "    \n",
    "with open('data/tickerlist.txt','w') as file:\n",
    "    file.write(list)\n",
    "\n",
    "print(list)"
   ]
  },
  {
   "cell_type": "markdown",
   "metadata": {},
   "source": [
    "# Finished. The data is now in an easily accessable format in the tickerlist.txt file"
   ]
  }
 ],
 "metadata": {
  "kernelspec": {
   "display_name": "Python 3",
   "language": "python",
   "name": "python3"
  },
  "language_info": {
   "codemirror_mode": {
    "name": "ipython",
    "version": 3
   },
   "file_extension": ".py",
   "mimetype": "text/x-python",
   "name": "python",
   "nbconvert_exporter": "python",
   "pygments_lexer": "ipython3",
   "version": "3.6.4"
  }
 },
 "nbformat": 4,
 "nbformat_minor": 2
}
